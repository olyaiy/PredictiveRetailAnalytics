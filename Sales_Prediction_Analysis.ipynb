{
 "cells": [
  {
   "cell_type": "code",
   "execution_count": 2,
   "id": "15cc6ce1-75da-43ca-8a3e-24bd459e704f",
   "metadata": {},
   "outputs": [],
   "source": [
    "# Imports\n",
    "import pandas as pd"
   ]
  },
  {
   "cell_type": "code",
   "execution_count": 6,
   "id": "267b8e33-683a-4f2c-8133-44d71af642dc",
   "metadata": {},
   "outputs": [
    {
     "name": "stderr",
     "output_type": "stream",
     "text": [
      "/var/folders/3z/2br5ry314bb8x_k05gdxd21m0000gn/T/ipykernel_58013/1715588255.py:2: DtypeWarning: Columns (7) have mixed types. Specify dtype option on import or set low_memory=False.\n",
      "  train_data = pd.read_csv('rossmann-store-sales/train.csv')\n"
     ]
    }
   ],
   "source": [
    "# Load the data\n",
    "train_data = pd.read_csv('rossmann-store-sales/train.csv')\n",
    "test_data = pd.read_csv('rossmann-store-sales/test.csv')\n",
    "store_data = pd.read_csv('rossmann-store-sales/store.csv')\n",
    "\n",
    "# Merge data on 'Store' column\n",
    "data = pd.merge(train_data, store_data, on='Store')"
   ]
  },
  {
   "cell_type": "code",
   "execution_count": null,
   "id": "fe149b31-d7b2-4b34-bd93-3a31b3ed7733",
   "metadata": {},
   "outputs": [],
   "source": []
  }
 ],
 "metadata": {
  "kernelspec": {
   "display_name": "Python 3 (ipykernel)",
   "language": "python",
   "name": "python3"
  },
  "language_info": {
   "codemirror_mode": {
    "name": "ipython",
    "version": 3
   },
   "file_extension": ".py",
   "mimetype": "text/x-python",
   "name": "python",
   "nbconvert_exporter": "python",
   "pygments_lexer": "ipython3",
   "version": "3.11.9"
  }
 },
 "nbformat": 4,
 "nbformat_minor": 5
}
